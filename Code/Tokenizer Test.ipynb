{
 "cells": [
  {
   "cell_type": "code",
   "execution_count": 7,
   "id": "c9dda9ec",
   "metadata": {},
   "outputs": [
    {
     "name": "stdout",
     "output_type": "stream",
     "text": [
      "Input a sentence here: While this is a supremely important and complex task, there is simply not enough gibberish to go around\n",
      "Tokenized IDs: [0, 5771, 42, 16, 10, 15835, 352, 505, 8, 2632, 3685, 6, 89, 16, 1622, 45, 615, 25863, 1943, 1173, 7, 213, 198, 2]\n",
      "Tokenized text: ['<s>', 'While', 'Ġthis', 'Ġis', 'Ġa', 'Ġsupreme', 'ly', 'Ġimportant', 'Ġand', 'Ġcomplex', 'Ġtask', ',', 'Ġthere', 'Ġis', 'Ġsimply', 'Ġnot', 'Ġenough', 'Ġgib', 'ber', 'ish', 'Ġto', 'Ġgo', 'Ġaround', '</s>']\n",
      "Attention mask: [1, 1, 1, 1, 1, 1, 1, 1, 1, 1, 1, 1, 1, 1, 1, 1, 1, 1, 1, 1, 1, 1, 1, 1]\n"
     ]
    }
   ],
   "source": [
    "import torch\n",
    "from transformers import RobertaTokenizer\n",
    "\n",
    "# Initialize the tokenizer\n",
    "tokenizer = RobertaTokenizer.from_pretrained('roberta-base')\n",
    "\n",
    "# Define the input sentence\n",
    "sentence = input(\"Input a sentence here: \")\n",
    "\n",
    "# Tokenize the sentence\n",
    "tokenized_output = tokenizer(sentence)\n",
    "\n",
    "# Print the tokenization values\n",
    "#print(\"Input sentence:\", sentence)\n",
    "print(\"Tokenized IDs:\", tokenized_output['input_ids'])\n",
    "print(\"Tokenized text:\", tokenizer.convert_ids_to_tokens(tokenized_output['input_ids']))\n",
    "#print(\"Token type IDs:\", tokenized_output['token_type_ids'])\n",
    "print(\"Attention mask:\", tokenized_output['attention_mask'])\n"
   ]
  },
  {
   "cell_type": "code",
   "execution_count": null,
   "id": "f64801d5",
   "metadata": {},
   "outputs": [],
   "source": []
  }
 ],
 "metadata": {
  "kernelspec": {
   "display_name": "Python 3 (ipykernel)",
   "language": "python",
   "name": "python3"
  },
  "language_info": {
   "codemirror_mode": {
    "name": "ipython",
    "version": 3
   },
   "file_extension": ".py",
   "mimetype": "text/x-python",
   "name": "python",
   "nbconvert_exporter": "python",
   "pygments_lexer": "ipython3",
   "version": "3.9.13"
  }
 },
 "nbformat": 4,
 "nbformat_minor": 5
}
