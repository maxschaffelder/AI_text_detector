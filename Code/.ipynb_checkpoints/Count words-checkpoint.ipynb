{
 "cells": [
  {
   "cell_type": "code",
   "execution_count": 1,
   "id": "b0921f10",
   "metadata": {},
   "outputs": [],
   "source": [
    "import pandas as pd\n",
    "import re\n",
    "\n",
    "df_ai = pd.read_csv('/Users/maxschaffelder/Desktop/Thesis/Data/GPT3/data_GPT3_para6.csv') \n",
    "df_human = pd.read_csv('/Users/maxschaffelder/Desktop/Thesis/Data/Human/data_human_para2.csv') \n"
   ]
  },
  {
   "cell_type": "code",
   "execution_count": 16,
   "id": "0e9194a6",
   "metadata": {},
   "outputs": [],
   "source": [
    "# Show entire text contents\n",
    "\n",
    "text_ai = \"\"\n",
    "\n",
    "for i in range(len(df_ai)):\n",
    "    #print(df_ai.iloc[i][\"content\"])\n",
    "    text_ai += df_ai.iloc[i][\"content\"]\n",
    "\n",
    "text_human = \"\"\n",
    "for i in range(len(df_human)):\n",
    "    #print(df_human.iloc[i][\"content\"])\n",
    "    text_human += df_ai.iloc[i][\"content\"]"
   ]
  },
  {
   "cell_type": "code",
   "execution_count": 17,
   "id": "cd4e207f",
   "metadata": {},
   "outputs": [
    {
     "name": "stdout",
     "output_type": "stream",
     "text": [
      "116537\n",
      "Ratio of articles too total words in the GPT-3.5 generated text: 7.74 %\n"
     ]
    }
   ],
   "source": [
    "counter_arts = 0\n",
    "counter_all = 0\n",
    "\n",
    "\n",
    "for i in text_ai.split():\n",
    "    counter_all += 1\n",
    "    if i.lower() == \"the\" or i.lower() == \"a\" or i.lower() == \"an\":\n",
    "        counter_arts += 1\n",
    "\n",
    "        \n",
    "print(\"Ratio of articles to total words in the GPT-3.5 generated text:\", round(counter_arts/counter_all*100, 2), \"%\")\n"
   ]
  },
  {
   "cell_type": "code",
   "execution_count": 18,
   "id": "d3e3e638",
   "metadata": {},
   "outputs": [
    {
     "name": "stdout",
     "output_type": "stream",
     "text": [
      "Ratio of articles too total words in the human generated text: 7.87 %\n"
     ]
    }
   ],
   "source": [
    "counter_arts = 0\n",
    "counter_all = 0\n",
    "\n",
    "\n",
    "for i in text_human.split():\n",
    "    counter_all += 1\n",
    "    if i.lower() == \"the\" or i.lower() == \"a\" or i.lower() == \"an\":\n",
    "        counter_arts += 1\n",
    "        \n",
    "print(\"Ratio of articles to total words in the human generated text:\", round(counter_arts/counter_all*100, 2), \"%\")\n",
    "\n"
   ]
  }
 ],
 "metadata": {
  "kernelspec": {
   "display_name": "Python 3 (ipykernel)",
   "language": "python",
   "name": "python3"
  },
  "language_info": {
   "codemirror_mode": {
    "name": "ipython",
    "version": 3
   },
   "file_extension": ".py",
   "mimetype": "text/x-python",
   "name": "python",
   "nbconvert_exporter": "python",
   "pygments_lexer": "ipython3",
   "version": "3.9.13"
  }
 },
 "nbformat": 4,
 "nbformat_minor": 5
}
